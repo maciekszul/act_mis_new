{
 "cells": [
  {
   "cell_type": "code",
   "execution_count": 47,
   "id": "cb574b5d",
   "metadata": {},
   "outputs": [],
   "source": [
    "import sys\n",
    "import json\n",
    "import pickle\n",
    "import numpy as np\n",
    "import pandas as pd\n",
    "from pathlib import Path\n",
    "from mne import events_from_annotations, Epochs\n",
    "from mne.io import read_raw\n",
    "from mne.preprocessing import read_ica\n",
    "from extra.util import get_directories, get_files, make_directory, check_many\n",
    "import matplotlib.pylab as plt"
   ]
  },
  {
   "cell_type": "code",
   "execution_count": 11,
   "id": "fbe91e89",
   "metadata": {},
   "outputs": [],
   "source": [
    "raw_path = Path(\"/home/mszul/datasets/act_mis/MEG/processed/0001/zapline_act_mis-0001-ses-001-raw.fif\")\n",
    "beh_path = Path(\"/home/mszul/datasets/act_mis/BEH/0001/ses1_0001_1553272489.csv\")\n",
    "pkl_path = Path(\"/home/mszul/datasets/act_mis/BEH/0001/ses1_0001_1553272489.pkl\")"
   ]
  },
  {
   "cell_type": "code",
   "execution_count": 5,
   "id": "c65a3ed2",
   "metadata": {},
   "outputs": [
    {
     "name": "stdout",
     "output_type": "stream",
     "text": [
      "Opening raw data file /home/mszul/datasets/act_mis/MEG/processed/0001/zapline_act_mis-0001-ses-001-raw.fif...\n",
      "    Read 5 compensation matrices\n",
      "    Range : 7286 ... 698755 =      6.072 ...   582.296 secs\n",
      "Ready.\n",
      "Current compensation grade : 3\n"
     ]
    }
   ],
   "source": [
    "raw = read_raw(raw_path)\n"
   ]
  },
  {
   "cell_type": "code",
   "execution_count": 13,
   "id": "ac50a202",
   "metadata": {},
   "outputs": [],
   "source": [
    "beh = pd.read_pickle(pkl_path)\n"
   ]
  },
  {
   "cell_type": "code",
   "execution_count": 31,
   "id": "31a4e164",
   "metadata": {},
   "outputs": [
    {
     "data": {
      "text/plain": [
       "250.0"
      ]
     },
     "execution_count": 31,
     "metadata": {},
     "output_type": "execute_result"
    }
   ],
   "source": [
    "beh.iloc[5].x.shape[0] / 1.5"
   ]
  },
  {
   "cell_type": "code",
   "execution_count": 38,
   "id": "cf6687df",
   "metadata": {},
   "outputs": [
    {
     "data": {
      "text/plain": [
       "(array([19.,  2.,  1.,  0.,  1., 13., 22., 34., 19., 18., 10.,  2.,  1.,\n",
       "         3.,  2.,  0.,  0.,  1.,  0.,  2.]),\n",
       " array([0.    , 0.0552, 0.1104, 0.1656, 0.2208, 0.276 , 0.3312, 0.3864,\n",
       "        0.4416, 0.4968, 0.552 , 0.6072, 0.6624, 0.7176, 0.7728, 0.828 ,\n",
       "        0.8832, 0.9384, 0.9936, 1.0488, 1.104 ]),\n",
       " <BarContainer object of 20 artists>)"
      ]
     },
     "execution_count": 38,
     "metadata": {},
     "output_type": "execute_result"
    },
    {
     "data": {
      "image/png": "[encoded data removed]",
      "text/plain": [
       "<Figure size 640x480 with 1 Axes>"
      ]
     },
     "metadata": {},
     "output_type": "display_data"
    }
   ],
   "source": [
    "plt.hist(beh.action_onset.values/250.0, bins=20)"
   ]
  },
  {
   "cell_type": "code",
   "execution_count": 49,
   "id": "be665570",
   "metadata": {},
   "outputs": [
    {
     "data": {
      "text/plain": [
       "(0.3, 0.8)"
      ]
     },
     "execution_count": 49,
     "metadata": {},
     "output_type": "execute_result"
    },
    {
     "data": {
      "image/png": "[encoded data removed]",
      "text/plain": [
       "<Figure size 640x480 with 1 Axes>"
      ]
     },
     "metadata": {},
     "output_type": "display_data"
    }
   ],
   "source": [
    "plt.hist(np.abs(beh.movement_dir), bins=20)\n",
    "\n",
    "\n",
    "0.3, 0.8"
   ]
  },
  {
   "cell_type": "code",
   "execution_count": null,
   "id": "26ba9156",
   "metadata": {},
   "outputs": [],
   "source": []
  }
 ],
 "metadata": {
  "kernelspec": {
   "display_name": "Python 3 (ipykernel)",
   "language": "python",
   "name": "python3"
  },
  "language_info": {
   "codemirror_mode": {
    "name": "ipython",
    "version": 3
   },
   "file_extension": ".py",
   "mimetype": "text/x-python",
   "name": "python",
   "nbconvert_exporter": "python",
   "pygments_lexer": "ipython3",
   "version": "3.10.13"
  }
 },
 "nbformat": 4,
 "nbformat_minor": 5
}
